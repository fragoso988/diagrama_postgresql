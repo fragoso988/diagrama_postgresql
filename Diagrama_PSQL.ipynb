{
 "cells": [
  {
   "cell_type": "markdown",
   "metadata": {},
   "source": [
    "# Geração de Diagrama de Banco de Dados PostgreSQL"
   ]
  },
  {
   "cell_type": "code",
   "execution_count": 22,
   "metadata": {},
   "outputs": [],
   "source": [
    "import sqlalchemy\n",
    "from sqlalchemy_schemadisplay import create_schema_graph\n",
    "from sqlalchemy import MetaData"
   ]
  },
  {
   "cell_type": "code",
   "execution_count": 23,
   "metadata": {},
   "outputs": [],
   "source": [
    "db_name = 'db_name'\n",
    "db_type = 'postgresql'\n",
    "db_user = 'db_user'\n",
    "db_pass = 'db_pass'\n",
    "db_host  = 'ip:port/database'"
   ]
  },
  {
   "cell_type": "code",
   "execution_count": 24,
   "metadata": {},
   "outputs": [],
   "source": [
    "engine = db_type+\"://\"+db_user+\":\"+db_pass+\"@\"+db_host"
   ]
  },
  {
   "cell_type": "code",
   "execution_count": 25,
   "metadata": {
    "scrolled": true
   },
   "outputs": [],
   "source": [
    "graph = create_schema_graph(metadata=MetaData(engine),\n",
    "                            show_datatypes=False,\n",
    "                            show_indexes=False,\n",
    "                            rankdir='TB',\n",
    "                            concentrate=True,)"
   ]
  },
  {
   "cell_type": "code",
   "execution_count": 26,
   "metadata": {},
   "outputs": [],
   "source": [
    "graph.write_png('%s_dbschema.png' % db_name)\n",
    "graph.write_svg('%s_dbschema.svg' % db_name)\n",
    "graph.write_pdf('%s_dbschema.pdf' % db_name)"
   ]
  },
  {
   "cell_type": "code",
   "execution_count": null,
   "metadata": {},
   "outputs": [],
   "source": []
  }
 ],
 "metadata": {
  "kernelspec": {
   "display_name": "Python 3",
   "language": "python",
   "name": "python3"
  },
  "language_info": {
   "codemirror_mode": {
    "name": "ipython",
    "version": 3
   },
   "file_extension": ".py",
   "mimetype": "text/x-python",
   "name": "python",
   "nbconvert_exporter": "python",
   "pygments_lexer": "ipython3",
   "version": "3.7.3"
  }
 },
 "nbformat": 4,
 "nbformat_minor": 2
}
